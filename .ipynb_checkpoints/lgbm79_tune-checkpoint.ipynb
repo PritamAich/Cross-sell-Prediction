{
 "cells": [
  {
   "cell_type": "markdown",
   "metadata": {
    "colab_type": "text",
    "id": "7LzHsnjOesbX"
   },
   "source": [
    "## Importing Libraries"
   ]
  },
  {
   "cell_type": "code",
   "execution_count": 1,
   "metadata": {
    "colab": {},
    "colab_type": "code",
    "id": "4dOAXr5oesbY"
   },
   "outputs": [],
   "source": [
    "import pandas as pd\n",
    "import numpy as np\n",
    "import warnings\n",
    "\n",
    "warnings.filterwarnings('ignore')"
   ]
  },
  {
   "cell_type": "code",
   "execution_count": 2,
   "metadata": {
    "colab": {},
    "colab_type": "code",
    "id": "p4zh8T55esbb"
   },
   "outputs": [],
   "source": [
    "train_data = pd.read_csv('train.csv')\n",
    "test_data = pd.read_csv('test.csv')"
   ]
  },
  {
   "cell_type": "code",
   "execution_count": 3,
   "metadata": {
    "colab": {},
    "colab_type": "code",
    "id": "NIdqN5Mjesbg"
   },
   "outputs": [],
   "source": [
    "train = train_data.copy()\n",
    "test = test_data.copy()"
   ]
  },
  {
   "cell_type": "code",
   "execution_count": 4,
   "metadata": {
    "colab": {},
    "colab_type": "code",
    "id": "V0k96bXvesbk"
   },
   "outputs": [],
   "source": [
    "def preprocessing(data):\n",
    "    \n",
    "    #Dropping null values\n",
    "    data = data.dropna()\n",
    "    \n",
    "    #Dropping id\n",
    "    data = data.drop('id', axis = 1)\n",
    "    \n",
    "    #Columns to get dummies\n",
    "    cols = ['Gender', 'Vehicle_Damage', 'Vehicle_Age']\n",
    "    \n",
    "    #Changing categories into dummies\n",
    "    data_dum = pd.get_dummies(data = data , columns = cols, drop_first = True )\n",
    "    \n",
    "    #We don't need this column as it has almost no correlation with our dependent variable\n",
    "    data_dum = data_dum.drop('Vintage', axis = 1)\n",
    "    \n",
    "    return data_dum"
   ]
  },
  {
   "cell_type": "code",
   "execution_count": 5,
   "metadata": {
    "colab": {},
    "colab_type": "code",
    "id": "qcyGiozdesbn"
   },
   "outputs": [],
   "source": [
    "#Preprocessing training data\n",
    "train_dum = preprocessing(train)\n",
    "\n",
    "#Preprocessing test data\n",
    "test_dum = preprocessing(test)"
   ]
  },
  {
   "cell_type": "code",
   "execution_count": 6,
   "metadata": {
    "colab": {},
    "colab_type": "code",
    "id": "5eiwCxrDesbq"
   },
   "outputs": [],
   "source": [
    "#Assigning inputs and targets\n",
    "\n",
    "inputs = train_dum.drop('Response', axis = 1)\n",
    "targets = train_dum['Response'] \n",
    "\n",
    "x_test = test_dum.copy()"
   ]
  },
  {
   "cell_type": "markdown",
   "metadata": {
    "colab_type": "text",
    "id": "3fT4tEaDesbu"
   },
   "source": [
    "#### We will use stratified K-Fold from sklearn as this is a highly imbalanced dataset"
   ]
  },
  {
   "cell_type": "markdown",
   "metadata": {
    "colab_type": "text",
    "id": "48WdDTZbesbu"
   },
   "source": [
    "**Stratified K-Folds cross-validator. Provides train/test indices to split data in train/test sets. This cross-validation object is a variation of KFold that returns stratified folds. The folds are made by preserving the percentage of samples for each class. Parameters n_splitsint, default=5.**"
   ]
  },
  {
   "cell_type": "code",
   "execution_count": 7,
   "metadata": {
    "colab": {},
    "colab_type": "code",
    "id": "suzZrWiwesbv"
   },
   "outputs": [],
   "source": [
    "from sklearn.model_selection import StratifiedKFold\n",
    "\n",
    "skf = StratifiedKFold(n_splits = 10, random_state = 42)\n",
    "\n",
    "for train_idx, val_idx in skf.split(inputs, targets):\n",
    "    x_train, x_val = inputs.iloc[train_idx], inputs.iloc[val_idx]\n",
    "    y_train, y_val = targets.iloc[train_idx], targets.iloc[val_idx]"
   ]
  },
  {
   "cell_type": "code",
   "execution_count": 8,
   "metadata": {
    "colab": {},
    "colab_type": "code",
    "id": "YqZGqxDdesbx"
   },
   "outputs": [],
   "source": [
    "#Scaling all input data\n",
    "    \n",
    "from sklearn.preprocessing import MinMaxScaler\n",
    "\n",
    "scaler = MinMaxScaler()\n",
    "\n",
    "x_train_scaled = scaler.fit_transform(x_train)\n",
    "\n",
    "#Will use only transform for validation and test data as we don't want any data leakage\n",
    "x_val_scaled = scaler.transform(x_val)\n",
    "x_test_scaled = scaler.transform(x_test)"
   ]
  },
  {
   "cell_type": "code",
   "execution_count": 12,
   "metadata": {},
   "outputs": [
    {
     "name": "stdout",
     "output_type": "stream",
     "text": [
      "[LightGBM] [Warning] lambda_l2 is set=22, reg_lambda=0.0 will be ignored. Current value: lambda_l2=22\n",
      "0.854934997355749\n"
     ]
    }
   ],
   "source": [
    "from lightgbm import LGBMClassifier\n",
    "from sklearn.metrics import roc_auc_score, accuracy_score\n",
    "\n",
    "lgbm = LGBMClassifier(num_leaves = 30, max_depth = 5, n_estimators = 550, learning_rate = 0.05, objective = 'binary', \n",
    "                      lambda_l2 = 22,\n",
    "                      max_bin = 100, metric = 'auc', is_unbalance = True, random_state = None, n_jobs = -1)\n",
    "lgbm.fit(x_train_scaled,y_train)\n",
    "y_val_pred = lgbm.predict_proba(x_val_scaled)[:,1]\n",
    "print(roc_auc_score(y_val, y_val_pred))"
   ]
  },
  {
   "cell_type": "code",
   "execution_count": 13,
   "metadata": {},
   "outputs": [],
   "source": [
    "y_pred = lgbm.predict_proba(x_test_scaled)[:,1]"
   ]
  },
  {
   "cell_type": "code",
   "execution_count": 14,
   "metadata": {
    "colab": {},
    "colab_type": "code",
    "id": "oIK3A-9BmqO7"
   },
   "outputs": [],
   "source": [
    "my_submission = pd.DataFrame({'id': test.id, 'Response': y_pred})\n",
    "# you could use any filename. We choose submission here\n",
    "my_submission.to_csv('submission_lgbm.csv', index=False)\n"
   ]
  },
  {
   "cell_type": "code",
   "execution_count": 15,
   "metadata": {
    "colab": {
     "base_uri": "https://localhost:8080/",
     "height": 34
    },
    "colab_type": "code",
    "id": "pHmpqgxFnAtp",
    "outputId": "c587ba1c-7109-463a-b825-9a5e5c6cf376"
   },
   "outputs": [
    {
     "data": {
      "text/plain": [
       "(127037,)"
      ]
     },
     "execution_count": 15,
     "metadata": {},
     "output_type": "execute_result"
    }
   ],
   "source": [
    "my_submission['Response'].shape"
   ]
  },
  {
   "cell_type": "code",
   "execution_count": null,
   "metadata": {
    "colab": {},
    "colab_type": "code",
    "id": "p819mbPYoTm4"
   },
   "outputs": [],
   "source": []
  }
 ],
 "metadata": {
  "accelerator": "GPU",
  "colab": {
   "name": "Preprocessing , Modelling, Testing.ipynb",
   "provenance": []
  },
  "kernelspec": {
   "display_name": "Python 3",
   "language": "python",
   "name": "python3"
  },
  "language_info": {
   "codemirror_mode": {
    "name": "ipython",
    "version": 3
   },
   "file_extension": ".py",
   "mimetype": "text/x-python",
   "name": "python",
   "nbconvert_exporter": "python",
   "pygments_lexer": "ipython3",
   "version": "3.7.6"
  }
 },
 "nbformat": 4,
 "nbformat_minor": 1
}
