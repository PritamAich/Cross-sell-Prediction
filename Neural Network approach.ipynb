{
 "cells": [
  {
   "cell_type": "markdown",
   "metadata": {
    "colab_type": "text",
    "id": "7LzHsnjOesbX"
   },
   "source": [
    "## Importing Libraries"
   ]
  },
  {
   "cell_type": "code",
   "execution_count": 1,
   "metadata": {
    "colab": {},
    "colab_type": "code",
    "id": "4dOAXr5oesbY"
   },
   "outputs": [],
   "source": [
    "import pandas as pd\n",
    "import numpy as np\n",
    "import warnings\n",
    "\n",
    "warnings.filterwarnings('ignore')"
   ]
  },
  {
   "cell_type": "code",
   "execution_count": 2,
   "metadata": {
    "colab": {},
    "colab_type": "code",
    "id": "p4zh8T55esbb"
   },
   "outputs": [],
   "source": [
    "train_data = pd.read_csv('train.csv')\n",
    "test_data = pd.read_csv('test.csv')"
   ]
  },
  {
   "cell_type": "code",
   "execution_count": 3,
   "metadata": {
    "colab": {},
    "colab_type": "code",
    "id": "NIdqN5Mjesbg"
   },
   "outputs": [],
   "source": [
    "train = train_data.copy()\n",
    "test = test_data.copy()"
   ]
  },
  {
   "cell_type": "code",
   "execution_count": 4,
   "metadata": {
    "colab": {},
    "colab_type": "code",
    "id": "V0k96bXvesbk"
   },
   "outputs": [],
   "source": [
    "def preprocessing(data):\n",
    "    \n",
    "    #Dropping null values\n",
    "    data = data.dropna()\n",
    "    \n",
    "    #Dropping id\n",
    "    data = data.drop('id', axis = 1)\n",
    "    \n",
    "    #Columns to get dummies\n",
    "    cols = ['Gender', 'Vehicle_Damage', 'Vehicle_Age']\n",
    "    \n",
    "    #Changing categories into dummies\n",
    "    data_dum = pd.get_dummies(data = data , columns = cols, drop_first = True )\n",
    "    \n",
    "    #We don't need this column as it has almost no correlation with our dependent variable\n",
    "    data_dum = data_dum.drop('Vintage', axis = 1)\n",
    "    \n",
    "    return data_dum"
   ]
  },
  {
   "cell_type": "code",
   "execution_count": 5,
   "metadata": {
    "colab": {},
    "colab_type": "code",
    "id": "qcyGiozdesbn"
   },
   "outputs": [],
   "source": [
    "#Preprocessing training data\n",
    "train_dum = preprocessing(train)\n",
    "\n",
    "#Preprocessing test data\n",
    "test_dum = preprocessing(test)"
   ]
  },
  {
   "cell_type": "code",
   "execution_count": 6,
   "metadata": {
    "colab": {},
    "colab_type": "code",
    "id": "5eiwCxrDesbq"
   },
   "outputs": [],
   "source": [
    "#Assigning inputs and targets\n",
    "\n",
    "inputs = train_dum.drop('Response', axis = 1)\n",
    "targets = train_dum['Response'] \n",
    "\n",
    "x_test = test_dum.copy()"
   ]
  },
  {
   "cell_type": "markdown",
   "metadata": {
    "colab_type": "text",
    "id": "3fT4tEaDesbu"
   },
   "source": [
    "#### We will use stratified K-Fold from sklearn as this is a highly imbalanced dataset"
   ]
  },
  {
   "cell_type": "markdown",
   "metadata": {
    "colab_type": "text",
    "id": "48WdDTZbesbu"
   },
   "source": [
    "**Stratified K-Folds cross-validator. Provides train/test indices to split data in train/test sets. This cross-validation object is a variation of KFold that returns stratified folds. The folds are made by preserving the percentage of samples for each class. Parameters n_splitsint, default=5.**"
   ]
  },
  {
   "cell_type": "code",
   "execution_count": 7,
   "metadata": {
    "colab": {},
    "colab_type": "code",
    "id": "suzZrWiwesbv"
   },
   "outputs": [],
   "source": [
    "from sklearn.model_selection import StratifiedKFold\n",
    "\n",
    "skf = StratifiedKFold(n_splits = 10, random_state = None)\n",
    "\n",
    "for train_idx, val_idx in skf.split(inputs, targets):\n",
    "    x_train, x_val = inputs.iloc[train_idx], inputs.iloc[val_idx]\n",
    "    y_train, y_val = targets.iloc[train_idx], targets.iloc[val_idx]"
   ]
  },
  {
   "cell_type": "code",
   "execution_count": 8,
   "metadata": {
    "colab": {},
    "colab_type": "code",
    "id": "YqZGqxDdesbx"
   },
   "outputs": [],
   "source": [
    "#Scaling all input data\n",
    "    \n",
    "from sklearn.preprocessing import MinMaxScaler\n",
    "\n",
    "scaler = MinMaxScaler()\n",
    "\n",
    "x_train_scaled = scaler.fit_transform(x_train)\n",
    "\n",
    "#Will use only transform for validation and test data as we don't want any data leakage\n",
    "x_val_scaled = scaler.transform(x_val)\n",
    "x_test_scaled = scaler.transform(x_test)"
   ]
  },
  {
   "cell_type": "markdown",
   "metadata": {
    "colab_type": "text",
    "id": "-AAezlRJesb0"
   },
   "source": [
    "### Model building"
   ]
  },
  {
   "cell_type": "code",
   "execution_count": 9,
   "metadata": {
    "colab": {},
    "colab_type": "code",
    "id": "Uusfdptdesb0"
   },
   "outputs": [],
   "source": [
    "import tensorflow as tf\n",
    "from tensorflow.keras.models import Sequential\n",
    "from tensorflow.keras.layers import Dense, Dropout\n",
    "from tensorflow.keras.optimizers import Adam\n",
    "from tensorflow.keras.callbacks import EarlyStopping\n",
    "\n",
    "\n",
    "model = Sequential()\n",
    "\n",
    "layer_size = inputs.shape[1]\n",
    "\n",
    "initializer = tf.keras.initializers.HeNormal(seed=None)\n",
    "\n",
    "#1st Layer\n",
    "model.add(Dense(layer_size, activation='relu', kernel_initializer= initializer))\n",
    "model.add(Dropout(0.5))\n",
    "\n",
    "#2nd Layer\n",
    "model.add(Dense(100, activation='relu', kernel_initializer = initializer)),\n",
    "model.add(Dropout(0.5))\n",
    "\n",
    "#3nd Layer\n",
    "model.add(Dense(50, activation='relu', kernel_initializer = initializer)),\n",
    "model.add(Dropout(0.5))\n",
    "\n",
    "model.add(Dense(25, activation='relu', kernel_initializer = initializer)),\n",
    "model.add(Dropout(0.5))\n",
    "\n",
    "#Output layer\n",
    "model.add(Dense(2, activation = 'softmax'))"
   ]
  },
  {
   "cell_type": "code",
   "execution_count": 10,
   "metadata": {
    "colab": {},
    "colab_type": "code",
    "id": "ALWpuxjZesb3"
   },
   "outputs": [],
   "source": [
    "#Learning rate decay\n",
    "initial_rate = 0.1\n",
    "decay_steps = 1.0\n",
    "decay_rate = 0.6\n",
    "\n",
    "lr = tf.keras.optimizers.schedules.InverseTimeDecay(initial_rate, decay_steps, decay_rate)\n",
    "\n",
    "adam = Adam(learning_rate = lr)\n",
    "model.compile(loss = 'sparse_categorical_crossentropy', optimizer = adam, metrics = ['accuracy'])"
   ]
  },
  {
   "cell_type": "code",
   "execution_count": 11,
   "metadata": {
    "colab": {
     "base_uri": "https://localhost:8080/",
     "height": 168
    },
    "colab_type": "code",
    "id": "PDzTGPMQgc3y",
    "outputId": "6cc9825d-859d-4b62-90c3-14a04e36f26b"
   },
   "outputs": [
    {
     "name": "stdout",
     "output_type": "stream",
     "text": [
      "Epoch 1/100\n",
      "2680/2680 - 6s - loss: 0.3147 - accuracy: 0.8772 - val_loss: 0.2862 - val_accuracy: 0.8774\n",
      "Epoch 2/100\n",
      "2680/2680 - 7s - loss: 0.3057 - accuracy: 0.8774 - val_loss: 0.2860 - val_accuracy: 0.8774\n",
      "Epoch 3/100\n",
      "2680/2680 - 6s - loss: 0.3043 - accuracy: 0.8774 - val_loss: 0.2863 - val_accuracy: 0.8774\n",
      "Epoch 4/100\n",
      "2680/2680 - 6s - loss: 0.3023 - accuracy: 0.8774 - val_loss: 0.2861 - val_accuracy: 0.8774\n"
     ]
    },
    {
     "data": {
      "text/plain": [
       "<tensorflow.python.keras.callbacks.History at 0x7fc3a02c35c0>"
      ]
     },
     "execution_count": 11,
     "metadata": {
      "tags": []
     },
     "output_type": "execute_result"
    }
   ],
   "source": [
    "#Training the model\n",
    "\n",
    "early_stopping = tf.keras.callbacks.EarlyStopping(patience=2, restore_best_weights= True)\n",
    "\n",
    "model.fit(\n",
    "    \n",
    "    x_train_scaled, \n",
    "    y_train,\n",
    "    epochs = 100,\n",
    "    batch_size = 128,\n",
    "    callbacks = [early_stopping],\n",
    "    validation_data = (x_val_scaled, y_val),\n",
    "    verbose = 2,\n",
    "\n",
    ")"
   ]
  },
  {
   "cell_type": "code",
   "execution_count": 12,
   "metadata": {
    "colab": {
     "base_uri": "https://localhost:8080/",
     "height": 282
    },
    "colab_type": "code",
    "id": "VuX0q3tChkzJ",
    "outputId": "fcc24960-a468-48a8-c0e4-99671a49f6e2"
   },
   "outputs": [
    {
     "data": {
      "text/plain": [
       "<matplotlib.axes._subplots.AxesSubplot at 0x7fc3a0079b70>"
      ]
     },
     "execution_count": 12,
     "metadata": {
      "tags": []
     },
     "output_type": "execute_result"
    },
    {
     "data": {
      "image/png": "[encoded data removed]",
      "text/plain": [
       "<Figure size 432x288 with 1 Axes>"
      ]
     },
     "metadata": {
      "needs_background": "light",
      "tags": []
     },
     "output_type": "display_data"
    }
   ],
   "source": [
    "losses = pd.DataFrame(model.history.history)\n",
    "losses[['loss','val_loss']].plot()"
   ]
  },
  {
   "cell_type": "code",
   "execution_count": 13,
   "metadata": {
    "colab": {
     "base_uri": "https://localhost:8080/",
     "height": 87
    },
    "colab_type": "code",
    "id": "3OD_MTt9hrCB",
    "outputId": "b07a83a5-ffc9-4845-9a30-77b4838398bc"
   },
   "outputs": [
    {
     "name": "stdout",
     "output_type": "stream",
     "text": [
      "WARNING:tensorflow:From <ipython-input-13-4b2495578fdc>:1: Sequential.predict_proba (from tensorflow.python.keras.engine.sequential) is deprecated and will be removed after 2021-01-01.\n",
      "Instructions for updating:\n",
      "Please use `model.predict()` instead.\n"
     ]
    }
   ],
   "source": [
    "y_pred = model.predict_proba(x_test_scaled)[:,1]"
   ]
  },
  {
   "cell_type": "code",
   "execution_count": 15,
   "metadata": {
    "colab": {},
    "colab_type": "code",
    "id": "yDvbjU2upl3M"
   },
   "outputs": [],
   "source": [
    "model.save('model.h5')"
   ]
  },
  {
   "cell_type": "code",
   "execution_count": 16,
   "metadata": {
    "colab": {},
    "colab_type": "code",
    "id": "oIK3A-9BmqO7"
   },
   "outputs": [],
   "source": [
    "my_submission = pd.DataFrame({'id': test.id, 'Response': y_pred})\n",
    "# you could use any filename. We choose submission here\n",
    "my_submission.to_csv('submission.csv', index=False)\n"
   ]
  }
 ],
 "metadata": {
  "accelerator": "GPU",
  "colab": {
   "name": "Preprocessing , Modelling, Testing.ipynb",
   "provenance": []
  },
  "kernelspec": {
   "display_name": "Python 3",
   "language": "python",
   "name": "python3"
  },
  "language_info": {
   "codemirror_mode": {
    "name": "ipython",
    "version": 3
   },
   "file_extension": ".py",
   "mimetype": "text/x-python",
   "name": "python",
   "nbconvert_exporter": "python",
   "pygments_lexer": "ipython3",
   "version": "3.7.6"
  }
 },
 "nbformat": 4,
 "nbformat_minor": 1
}
